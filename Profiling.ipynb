{
 "cells": [
  {
   "cell_type": "code",
   "execution_count": 1,
   "id": "611054c9",
   "metadata": {},
   "outputs": [],
   "source": [
    "import pandas as pd\n",
    "import numpy as np"
   ]
  },
  {
   "cell_type": "code",
   "execution_count": 2,
   "id": "f14ebc21",
   "metadata": {},
   "outputs": [],
   "source": [
    "df = pd.read_csv (r'C:\\DE\\Datasets\\adventure\\archive\\AdventureWorks_Sales_2017.csv')"
   ]
  },
  {
   "cell_type": "code",
   "execution_count": 3,
   "id": "10cbdc1a",
   "metadata": {},
   "outputs": [
    {
     "data": {
      "text/html": [
       "<div>\n",
       "<style scoped>\n",
       "    .dataframe tbody tr th:only-of-type {\n",
       "        vertical-align: middle;\n",
       "    }\n",
       "\n",
       "    .dataframe tbody tr th {\n",
       "        vertical-align: top;\n",
       "    }\n",
       "\n",
       "    .dataframe thead th {\n",
       "        text-align: right;\n",
       "    }\n",
       "</style>\n",
       "<table border=\"1\" class=\"dataframe\">\n",
       "  <thead>\n",
       "    <tr style=\"text-align: right;\">\n",
       "      <th></th>\n",
       "      <th>OrderDate</th>\n",
       "      <th>StockDate</th>\n",
       "      <th>OrderNumber</th>\n",
       "      <th>ProductKey</th>\n",
       "      <th>CustomerKey</th>\n",
       "      <th>TerritoryKey</th>\n",
       "      <th>OrderLineItem</th>\n",
       "      <th>OrderQuantity</th>\n",
       "    </tr>\n",
       "  </thead>\n",
       "  <tbody>\n",
       "    <tr>\n",
       "      <th>0</th>\n",
       "      <td>1/1/2017</td>\n",
       "      <td>12/13/2003</td>\n",
       "      <td>SO61285</td>\n",
       "      <td>529</td>\n",
       "      <td>23791</td>\n",
       "      <td>1</td>\n",
       "      <td>2</td>\n",
       "      <td>2</td>\n",
       "    </tr>\n",
       "    <tr>\n",
       "      <th>1</th>\n",
       "      <td>1/1/2017</td>\n",
       "      <td>9/24/2003</td>\n",
       "      <td>SO61285</td>\n",
       "      <td>214</td>\n",
       "      <td>23791</td>\n",
       "      <td>1</td>\n",
       "      <td>3</td>\n",
       "      <td>1</td>\n",
       "    </tr>\n",
       "    <tr>\n",
       "      <th>2</th>\n",
       "      <td>1/1/2017</td>\n",
       "      <td>9/4/2003</td>\n",
       "      <td>SO61285</td>\n",
       "      <td>540</td>\n",
       "      <td>23791</td>\n",
       "      <td>1</td>\n",
       "      <td>1</td>\n",
       "      <td>1</td>\n",
       "    </tr>\n",
       "    <tr>\n",
       "      <th>3</th>\n",
       "      <td>1/1/2017</td>\n",
       "      <td>9/28/2003</td>\n",
       "      <td>SO61301</td>\n",
       "      <td>529</td>\n",
       "      <td>16747</td>\n",
       "      <td>1</td>\n",
       "      <td>2</td>\n",
       "      <td>2</td>\n",
       "    </tr>\n",
       "    <tr>\n",
       "      <th>4</th>\n",
       "      <td>1/1/2017</td>\n",
       "      <td>10/21/2003</td>\n",
       "      <td>SO61301</td>\n",
       "      <td>377</td>\n",
       "      <td>16747</td>\n",
       "      <td>1</td>\n",
       "      <td>1</td>\n",
       "      <td>1</td>\n",
       "    </tr>\n",
       "  </tbody>\n",
       "</table>\n",
       "</div>"
      ],
      "text/plain": [
       "  OrderDate   StockDate OrderNumber  ProductKey  CustomerKey  TerritoryKey  \\\n",
       "0  1/1/2017  12/13/2003     SO61285         529        23791             1   \n",
       "1  1/1/2017   9/24/2003     SO61285         214        23791             1   \n",
       "2  1/1/2017    9/4/2003     SO61285         540        23791             1   \n",
       "3  1/1/2017   9/28/2003     SO61301         529        16747             1   \n",
       "4  1/1/2017  10/21/2003     SO61301         377        16747             1   \n",
       "\n",
       "   OrderLineItem  OrderQuantity  \n",
       "0              2              2  \n",
       "1              3              1  \n",
       "2              1              1  \n",
       "3              2              2  \n",
       "4              1              1  "
      ]
     },
     "execution_count": 3,
     "metadata": {},
     "output_type": "execute_result"
    }
   ],
   "source": [
    "df.head()"
   ]
  }
 ],
 "metadata": {
  "kernelspec": {
   "display_name": "Python 3 (ipykernel)",
   "language": "python",
   "name": "python3"
  },
  "language_info": {
   "codemirror_mode": {
    "name": "ipython",
    "version": 3
   },
   "file_extension": ".py",
   "mimetype": "text/x-python",
   "name": "python",
   "nbconvert_exporter": "python",
   "pygments_lexer": "ipython3",
   "version": "3.9.7"
  }
 },
 "nbformat": 4,
 "nbformat_minor": 5
}
